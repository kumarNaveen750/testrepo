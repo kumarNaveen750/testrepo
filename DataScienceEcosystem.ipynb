{
 "cells": [
  {
   "cell_type": "markdown",
   "id": "52afb797-0381-42bc-93f9-6b7623d1af8f",
   "metadata": {},
   "source": [
    "# Data Science Tools and Ecosystem"
   ]
  },
  {
   "cell_type": "markdown",
   "id": "4cccd97a-4f6c-4718-9937-a9a3d48177b7",
   "metadata": {},
   "source": [
    "In this notebook, Data Science Tools and Ecosystem are summarized."
   ]
  },
  {
   "cell_type": "markdown",
   "id": "9e6021ed-7298-4016-96b6-1eb43f66d245",
   "metadata": {},
   "source": [
    "Some of the popular languages that Data Scientists use are:\n",
    "1. R\n",
    "2. PYTHON\n",
    "3. JAVA\n",
    "4. SCALA\n",
    "5. VS\n",
    "6. C++\n",
    "7. JAVASCRIPT\n",
    "8. VISUALBASIC\n",
    "9. GO"
   ]
  },
  {
   "cell_type": "markdown",
   "id": "c6f107a6-f3de-4de0-8ab8-ba39e6f7d724",
   "metadata": {
    "tags": []
   },
   "source": [
    "**Objectives:**\n",
    "\n",
    "- List popular languages for Data Science.\n",
    "- Summarize commonly used libraries in Data Science.\n",
    "- Introduce key Data Science tools."
   ]
  },
  {
   "cell_type": "markdown",
   "id": "142e0c95-9a22-44c6-837b-5d9d327445b0",
   "metadata": {},
   "source": [
    "# Data Science Libraries\n",
    "Some of the commonly used libraries used by Data Scientists include:\n",
    "1.  Pandas\n",
    "2.  NumPy\n",
    "3.  Matplotlib\n",
    "4. Apaches Spark"
   ]
  },
  {
   "cell_type": "markdown",
   "id": "98cc19b5-29ca-468a-a510-1e25a487e92a",
   "metadata": {},
   "source": [
    "# Data Science Tools\n",
    "\n",
    "\n",
    "| Data Science Tools |\n",
    "| ------------------ |\n",
    "| Jupyter Notebook   |\n",
    "| RStudio            |\n",
    "| Spyder             |\n",
    "| Anaconda           |\n",
    "| Zeppelin           |"
   ]
  },
  {
   "cell_type": "markdown",
   "id": "6bc0e048-a848-4ce4-b1d8-3c9803cf4c62",
   "metadata": {
    "tags": []
   },
   "source": [
    "### Below are a few examples of evaluating arithmetic expressions in Python"
   ]
  },
  {
   "cell_type": "code",
   "execution_count": 5,
   "id": "38e767be-d065-429c-b7f8-a547afe305ec",
   "metadata": {
    "tags": []
   },
   "outputs": [
    {
     "name": "stdout",
     "output_type": "stream",
     "text": [
      "17\n"
     ]
    }
   ],
   "source": [
    "# This a simple arithmetic expression to mutiply then add integers\n",
    "a = (3*4) + 5\n",
    "print(a)"
   ]
  },
  {
   "cell_type": "code",
   "execution_count": 4,
   "id": "592d181f-55f6-4242-b4c7-01ea540a1e6a",
   "metadata": {
    "tags": []
   },
   "outputs": [
    {
     "name": "stdout",
     "output_type": "stream",
     "text": [
      "3.3333333333333335\n"
     ]
    }
   ],
   "source": [
    "# This will convert 200 minutes to hours by diving by 60.\n",
    "hours = 200 / 60\n",
    "print(hours)"
   ]
  },
  {
   "cell_type": "markdown",
   "id": "d0e97422-ab7d-448f-8d56-bbb899027d27",
   "metadata": {
    "tags": []
   },
   "source": [
    "## Author \n",
    "Naveen Kumar R"
   ]
  },
  {
   "cell_type": "code",
   "execution_count": null,
   "id": "960d66e5-6ea4-4b63-b2e2-ee7f74fb6501",
   "metadata": {},
   "outputs": [],
   "source": []
  }
 ],
 "metadata": {
  "kernelspec": {
   "display_name": "Python",
   "language": "python",
   "name": "conda-env-python-py"
  },
  "language_info": {
   "codemirror_mode": {
    "name": "ipython",
    "version": 3
   },
   "file_extension": ".py",
   "mimetype": "text/x-python",
   "name": "python",
   "nbconvert_exporter": "python",
   "pygments_lexer": "ipython3",
   "version": "3.7.12"
  }
 },
 "nbformat": 4,
 "nbformat_minor": 5
}
